{
 "cells": [
  {
   "cell_type": "markdown",
   "id": "f7b96034",
   "metadata": {},
   "source": [
    "### Predicting Winner in League of Legends Ranked Matches"
   ]
  },
  {
   "cell_type": "markdown",
   "id": "72d9e302",
   "metadata": {},
   "source": [
    "Datasets:\n",
    "\n",
    "Ranked Games: https://www.kaggle.com/datasnaek/league-of-legends\n",
    "\n",
    "High ELO Ranked Games: https://www.kaggle.com/gyejr95/league-of-legends-challenger-ranked-games2020\n"
   ]
  },
  {
   "cell_type": "markdown",
   "id": "aeeed15d",
   "metadata": {},
   "source": [
    "This project uses a dataset of ranked matches from League of Legends to predict the winner in ranked matches. LoL is a multiplayer online battle arena game where two teams of 5 compete against each other to destroy the other team's Nexus (a structure located in each team's base). Ranked matches are games where teams compete to climb the leaderboard and ranking tiers within the game (ranges from Iron to Challenger, 9 total tiers).\n",
    "\n",
    "This project will train a dataset of ranked matches and a dataset of only high elo ranked matches (Master, Grand Master, and Challenger)"
   ]
  },
  {
   "cell_type": "code",
   "execution_count": 2,
   "id": "0aa41e81",
   "metadata": {},
   "outputs": [],
   "source": [
    "import pandas as pd\n",
    "import numpy as np\n",
    "import seaborn as sns"
   ]
  },
  {
   "cell_type": "markdown",
   "id": "abc5ef01",
   "metadata": {},
   "source": [
    "### Predicting Winner in Ranked Matches"
   ]
  },
  {
   "cell_type": "code",
   "execution_count": 3,
   "id": "a3d984ac",
   "metadata": {},
   "outputs": [
    {
     "data": {
      "text/html": [
       "<div>\n",
       "<style scoped>\n",
       "    .dataframe tbody tr th:only-of-type {\n",
       "        vertical-align: middle;\n",
       "    }\n",
       "\n",
       "    .dataframe tbody tr th {\n",
       "        vertical-align: top;\n",
       "    }\n",
       "\n",
       "    .dataframe thead th {\n",
       "        text-align: right;\n",
       "    }\n",
       "</style>\n",
       "<table border=\"1\" class=\"dataframe\">\n",
       "  <thead>\n",
       "    <tr style=\"text-align: right;\">\n",
       "      <th></th>\n",
       "      <th>gameDuration</th>\n",
       "      <th>winner</th>\n",
       "      <th>firstBlood</th>\n",
       "      <th>firstTower</th>\n",
       "      <th>firstInhibitor</th>\n",
       "      <th>firstBaron</th>\n",
       "      <th>firstDragon</th>\n",
       "      <th>firstRiftHerald</th>\n",
       "      <th>t1_champ1id</th>\n",
       "      <th>t1_champ1_sum1</th>\n",
       "      <th>...</th>\n",
       "      <th>t2_towerKills</th>\n",
       "      <th>t2_inhibitorKills</th>\n",
       "      <th>t2_baronKills</th>\n",
       "      <th>t2_dragonKills</th>\n",
       "      <th>t2_riftHeraldKills</th>\n",
       "      <th>t2_ban1</th>\n",
       "      <th>t2_ban2</th>\n",
       "      <th>t2_ban3</th>\n",
       "      <th>t2_ban4</th>\n",
       "      <th>t2_ban5</th>\n",
       "    </tr>\n",
       "  </thead>\n",
       "  <tbody>\n",
       "    <tr>\n",
       "      <th>0</th>\n",
       "      <td>1949</td>\n",
       "      <td>1</td>\n",
       "      <td>2</td>\n",
       "      <td>1</td>\n",
       "      <td>1</td>\n",
       "      <td>1</td>\n",
       "      <td>1</td>\n",
       "      <td>2</td>\n",
       "      <td>8</td>\n",
       "      <td>12</td>\n",
       "      <td>...</td>\n",
       "      <td>5</td>\n",
       "      <td>0</td>\n",
       "      <td>0</td>\n",
       "      <td>1</td>\n",
       "      <td>1</td>\n",
       "      <td>114</td>\n",
       "      <td>67</td>\n",
       "      <td>43</td>\n",
       "      <td>16</td>\n",
       "      <td>51</td>\n",
       "    </tr>\n",
       "    <tr>\n",
       "      <th>1</th>\n",
       "      <td>1851</td>\n",
       "      <td>1</td>\n",
       "      <td>1</td>\n",
       "      <td>1</td>\n",
       "      <td>1</td>\n",
       "      <td>0</td>\n",
       "      <td>1</td>\n",
       "      <td>1</td>\n",
       "      <td>119</td>\n",
       "      <td>7</td>\n",
       "      <td>...</td>\n",
       "      <td>2</td>\n",
       "      <td>0</td>\n",
       "      <td>0</td>\n",
       "      <td>0</td>\n",
       "      <td>0</td>\n",
       "      <td>11</td>\n",
       "      <td>67</td>\n",
       "      <td>238</td>\n",
       "      <td>51</td>\n",
       "      <td>420</td>\n",
       "    </tr>\n",
       "    <tr>\n",
       "      <th>2</th>\n",
       "      <td>1493</td>\n",
       "      <td>1</td>\n",
       "      <td>2</td>\n",
       "      <td>1</td>\n",
       "      <td>1</td>\n",
       "      <td>1</td>\n",
       "      <td>2</td>\n",
       "      <td>0</td>\n",
       "      <td>18</td>\n",
       "      <td>4</td>\n",
       "      <td>...</td>\n",
       "      <td>2</td>\n",
       "      <td>0</td>\n",
       "      <td>0</td>\n",
       "      <td>1</td>\n",
       "      <td>0</td>\n",
       "      <td>157</td>\n",
       "      <td>238</td>\n",
       "      <td>121</td>\n",
       "      <td>57</td>\n",
       "      <td>28</td>\n",
       "    </tr>\n",
       "    <tr>\n",
       "      <th>3</th>\n",
       "      <td>1758</td>\n",
       "      <td>1</td>\n",
       "      <td>1</td>\n",
       "      <td>1</td>\n",
       "      <td>1</td>\n",
       "      <td>1</td>\n",
       "      <td>1</td>\n",
       "      <td>0</td>\n",
       "      <td>57</td>\n",
       "      <td>4</td>\n",
       "      <td>...</td>\n",
       "      <td>0</td>\n",
       "      <td>0</td>\n",
       "      <td>0</td>\n",
       "      <td>0</td>\n",
       "      <td>0</td>\n",
       "      <td>164</td>\n",
       "      <td>18</td>\n",
       "      <td>141</td>\n",
       "      <td>40</td>\n",
       "      <td>51</td>\n",
       "    </tr>\n",
       "    <tr>\n",
       "      <th>4</th>\n",
       "      <td>2094</td>\n",
       "      <td>1</td>\n",
       "      <td>2</td>\n",
       "      <td>1</td>\n",
       "      <td>1</td>\n",
       "      <td>1</td>\n",
       "      <td>1</td>\n",
       "      <td>0</td>\n",
       "      <td>19</td>\n",
       "      <td>4</td>\n",
       "      <td>...</td>\n",
       "      <td>3</td>\n",
       "      <td>0</td>\n",
       "      <td>0</td>\n",
       "      <td>1</td>\n",
       "      <td>0</td>\n",
       "      <td>86</td>\n",
       "      <td>11</td>\n",
       "      <td>201</td>\n",
       "      <td>122</td>\n",
       "      <td>18</td>\n",
       "    </tr>\n",
       "    <tr>\n",
       "      <th>...</th>\n",
       "      <td>...</td>\n",
       "      <td>...</td>\n",
       "      <td>...</td>\n",
       "      <td>...</td>\n",
       "      <td>...</td>\n",
       "      <td>...</td>\n",
       "      <td>...</td>\n",
       "      <td>...</td>\n",
       "      <td>...</td>\n",
       "      <td>...</td>\n",
       "      <td>...</td>\n",
       "      <td>...</td>\n",
       "      <td>...</td>\n",
       "      <td>...</td>\n",
       "      <td>...</td>\n",
       "      <td>...</td>\n",
       "      <td>...</td>\n",
       "      <td>...</td>\n",
       "      <td>...</td>\n",
       "      <td>...</td>\n",
       "      <td>...</td>\n",
       "    </tr>\n",
       "    <tr>\n",
       "      <th>51485</th>\n",
       "      <td>1944</td>\n",
       "      <td>2</td>\n",
       "      <td>1</td>\n",
       "      <td>2</td>\n",
       "      <td>2</td>\n",
       "      <td>0</td>\n",
       "      <td>2</td>\n",
       "      <td>0</td>\n",
       "      <td>19</td>\n",
       "      <td>12</td>\n",
       "      <td>...</td>\n",
       "      <td>10</td>\n",
       "      <td>2</td>\n",
       "      <td>0</td>\n",
       "      <td>4</td>\n",
       "      <td>0</td>\n",
       "      <td>55</td>\n",
       "      <td>-1</td>\n",
       "      <td>90</td>\n",
       "      <td>238</td>\n",
       "      <td>157</td>\n",
       "    </tr>\n",
       "    <tr>\n",
       "      <th>51486</th>\n",
       "      <td>3304</td>\n",
       "      <td>2</td>\n",
       "      <td>1</td>\n",
       "      <td>1</td>\n",
       "      <td>2</td>\n",
       "      <td>2</td>\n",
       "      <td>2</td>\n",
       "      <td>2</td>\n",
       "      <td>90</td>\n",
       "      <td>4</td>\n",
       "      <td>...</td>\n",
       "      <td>11</td>\n",
       "      <td>7</td>\n",
       "      <td>4</td>\n",
       "      <td>4</td>\n",
       "      <td>1</td>\n",
       "      <td>157</td>\n",
       "      <td>55</td>\n",
       "      <td>119</td>\n",
       "      <td>154</td>\n",
       "      <td>105</td>\n",
       "    </tr>\n",
       "    <tr>\n",
       "      <th>51487</th>\n",
       "      <td>2156</td>\n",
       "      <td>2</td>\n",
       "      <td>2</td>\n",
       "      <td>2</td>\n",
       "      <td>2</td>\n",
       "      <td>0</td>\n",
       "      <td>1</td>\n",
       "      <td>0</td>\n",
       "      <td>141</td>\n",
       "      <td>11</td>\n",
       "      <td>...</td>\n",
       "      <td>10</td>\n",
       "      <td>2</td>\n",
       "      <td>0</td>\n",
       "      <td>2</td>\n",
       "      <td>0</td>\n",
       "      <td>113</td>\n",
       "      <td>122</td>\n",
       "      <td>53</td>\n",
       "      <td>11</td>\n",
       "      <td>157</td>\n",
       "    </tr>\n",
       "    <tr>\n",
       "      <th>51488</th>\n",
       "      <td>1475</td>\n",
       "      <td>2</td>\n",
       "      <td>2</td>\n",
       "      <td>2</td>\n",
       "      <td>2</td>\n",
       "      <td>0</td>\n",
       "      <td>2</td>\n",
       "      <td>0</td>\n",
       "      <td>121</td>\n",
       "      <td>11</td>\n",
       "      <td>...</td>\n",
       "      <td>11</td>\n",
       "      <td>3</td>\n",
       "      <td>0</td>\n",
       "      <td>1</td>\n",
       "      <td>0</td>\n",
       "      <td>154</td>\n",
       "      <td>39</td>\n",
       "      <td>51</td>\n",
       "      <td>90</td>\n",
       "      <td>114</td>\n",
       "    </tr>\n",
       "    <tr>\n",
       "      <th>51489</th>\n",
       "      <td>1445</td>\n",
       "      <td>1</td>\n",
       "      <td>1</td>\n",
       "      <td>1</td>\n",
       "      <td>1</td>\n",
       "      <td>1</td>\n",
       "      <td>2</td>\n",
       "      <td>0</td>\n",
       "      <td>89</td>\n",
       "      <td>3</td>\n",
       "      <td>...</td>\n",
       "      <td>1</td>\n",
       "      <td>0</td>\n",
       "      <td>0</td>\n",
       "      <td>1</td>\n",
       "      <td>0</td>\n",
       "      <td>11</td>\n",
       "      <td>157</td>\n",
       "      <td>141</td>\n",
       "      <td>31</td>\n",
       "      <td>18</td>\n",
       "    </tr>\n",
       "  </tbody>\n",
       "</table>\n",
       "<p>51490 rows × 58 columns</p>\n",
       "</div>"
      ],
      "text/plain": [
       "       gameDuration  winner  firstBlood  firstTower  firstInhibitor  \\\n",
       "0              1949       1           2           1               1   \n",
       "1              1851       1           1           1               1   \n",
       "2              1493       1           2           1               1   \n",
       "3              1758       1           1           1               1   \n",
       "4              2094       1           2           1               1   \n",
       "...             ...     ...         ...         ...             ...   \n",
       "51485          1944       2           1           2               2   \n",
       "51486          3304       2           1           1               2   \n",
       "51487          2156       2           2           2               2   \n",
       "51488          1475       2           2           2               2   \n",
       "51489          1445       1           1           1               1   \n",
       "\n",
       "       firstBaron  firstDragon  firstRiftHerald  t1_champ1id  t1_champ1_sum1  \\\n",
       "0               1            1                2            8              12   \n",
       "1               0            1                1          119               7   \n",
       "2               1            2                0           18               4   \n",
       "3               1            1                0           57               4   \n",
       "4               1            1                0           19               4   \n",
       "...           ...          ...              ...          ...             ...   \n",
       "51485           0            2                0           19              12   \n",
       "51486           2            2                2           90               4   \n",
       "51487           0            1                0          141              11   \n",
       "51488           0            2                0          121              11   \n",
       "51489           1            2                0           89               3   \n",
       "\n",
       "       ...  t2_towerKills  t2_inhibitorKills  t2_baronKills  t2_dragonKills  \\\n",
       "0      ...              5                  0              0               1   \n",
       "1      ...              2                  0              0               0   \n",
       "2      ...              2                  0              0               1   \n",
       "3      ...              0                  0              0               0   \n",
       "4      ...              3                  0              0               1   \n",
       "...    ...            ...                ...            ...             ...   \n",
       "51485  ...             10                  2              0               4   \n",
       "51486  ...             11                  7              4               4   \n",
       "51487  ...             10                  2              0               2   \n",
       "51488  ...             11                  3              0               1   \n",
       "51489  ...              1                  0              0               1   \n",
       "\n",
       "       t2_riftHeraldKills  t2_ban1  t2_ban2  t2_ban3  t2_ban4  t2_ban5  \n",
       "0                       1      114       67       43       16       51  \n",
       "1                       0       11       67      238       51      420  \n",
       "2                       0      157      238      121       57       28  \n",
       "3                       0      164       18      141       40       51  \n",
       "4                       0       86       11      201      122       18  \n",
       "...                   ...      ...      ...      ...      ...      ...  \n",
       "51485                   0       55       -1       90      238      157  \n",
       "51486                   1      157       55      119      154      105  \n",
       "51487                   0      113      122       53       11      157  \n",
       "51488                   0      154       39       51       90      114  \n",
       "51489                   0       11      157      141       31       18  \n",
       "\n",
       "[51490 rows x 58 columns]"
      ]
     },
     "execution_count": 3,
     "metadata": {},
     "output_type": "execute_result"
    }
   ],
   "source": [
    "matches = pd.read_csv(\"games.csv\")\n",
    "matches = matches.drop(columns=[\"gameId\", \"creationTime\", \"seasonId\"])\n",
    "matches"
   ]
  },
  {
   "cell_type": "code",
   "execution_count": 4,
   "id": "f7d11133",
   "metadata": {},
   "outputs": [
    {
     "data": {
      "text/plain": [
       "<AxesSubplot:>"
      ]
     },
     "execution_count": 4,
     "metadata": {},
     "output_type": "execute_result"
    },
    {
     "data": {
      "image/png": "[encoded data removed]",
      "text/plain": [
       "<Figure size 432x288 with 2 Axes>"
      ]
     },
     "metadata": {
      "needs_background": "light"
     },
     "output_type": "display_data"
    }
   ],
   "source": [
    "sns.heatmap(matches.corr())"
   ]
  },
  {
   "cell_type": "markdown",
   "id": "d1073e20",
   "metadata": {},
   "source": [
    "The correlation heatmap is very busy since there are a lot of variables. This is because variables like champ and ban is unique to each individual player (5v5, 10 players total). To reduce the number of features, we can run a principal component analysis before we train a model."
   ]
  },
  {
   "cell_type": "code",
   "execution_count": 5,
   "id": "9ce03f3e",
   "metadata": {},
   "outputs": [],
   "source": [
    "from sklearn.preprocessing import StandardScaler\n",
    "\n",
    "#separating features\n",
    "features = matches.drop(columns=[\"winner\"])\n",
    "X = features.values\n",
    "#separating target\n",
    "y = matches[[\"winner\"]].values\n",
    "# Standardizing the features\n",
    "X = StandardScaler().fit_transform(X)"
   ]
  },
  {
   "cell_type": "code",
   "execution_count": 6,
   "id": "48a96c38",
   "metadata": {},
   "outputs": [],
   "source": [
    "from sklearn.pipeline import Pipeline\n",
    "from sklearn.preprocessing import StandardScaler\n",
    "from sklearn.decomposition import PCA\n",
    "\n",
    "pca = PCA(n_components=2)\n",
    "principalComponents = pca.fit_transform(X)\n",
    "pca_df = pd.DataFrame(data=principalComponents, columns = [\"pca1\", \"pca2\"])"
   ]
  },
  {
   "cell_type": "code",
   "execution_count": 7,
   "id": "5581df75",
   "metadata": {},
   "outputs": [
    {
     "data": {
      "text/html": [
       "<div>\n",
       "<style scoped>\n",
       "    .dataframe tbody tr th:only-of-type {\n",
       "        vertical-align: middle;\n",
       "    }\n",
       "\n",
       "    .dataframe tbody tr th {\n",
       "        vertical-align: top;\n",
       "    }\n",
       "\n",
       "    .dataframe thead th {\n",
       "        text-align: right;\n",
       "    }\n",
       "</style>\n",
       "<table border=\"1\" class=\"dataframe\">\n",
       "  <thead>\n",
       "    <tr style=\"text-align: right;\">\n",
       "      <th></th>\n",
       "      <th>pca1</th>\n",
       "      <th>pca2</th>\n",
       "      <th>winner</th>\n",
       "    </tr>\n",
       "  </thead>\n",
       "  <tbody>\n",
       "    <tr>\n",
       "      <th>0</th>\n",
       "      <td>-1.386346</td>\n",
       "      <td>1.688852</td>\n",
       "      <td>1</td>\n",
       "    </tr>\n",
       "    <tr>\n",
       "      <th>1</th>\n",
       "      <td>-3.230678</td>\n",
       "      <td>0.693440</td>\n",
       "      <td>1</td>\n",
       "    </tr>\n",
       "    <tr>\n",
       "      <th>2</th>\n",
       "      <td>-1.334851</td>\n",
       "      <td>-0.188156</td>\n",
       "      <td>1</td>\n",
       "    </tr>\n",
       "    <tr>\n",
       "      <th>3</th>\n",
       "      <td>-2.829287</td>\n",
       "      <td>0.616305</td>\n",
       "      <td>1</td>\n",
       "    </tr>\n",
       "    <tr>\n",
       "      <th>4</th>\n",
       "      <td>-2.086047</td>\n",
       "      <td>1.359019</td>\n",
       "      <td>1</td>\n",
       "    </tr>\n",
       "    <tr>\n",
       "      <th>...</th>\n",
       "      <td>...</td>\n",
       "      <td>...</td>\n",
       "      <td>...</td>\n",
       "    </tr>\n",
       "    <tr>\n",
       "      <th>51485</th>\n",
       "      <td>2.370553</td>\n",
       "      <td>-1.327291</td>\n",
       "      <td>2</td>\n",
       "    </tr>\n",
       "    <tr>\n",
       "      <th>51486</th>\n",
       "      <td>5.286525</td>\n",
       "      <td>4.510198</td>\n",
       "      <td>2</td>\n",
       "    </tr>\n",
       "    <tr>\n",
       "      <th>51487</th>\n",
       "      <td>1.675559</td>\n",
       "      <td>-1.225819</td>\n",
       "      <td>2</td>\n",
       "    </tr>\n",
       "    <tr>\n",
       "      <th>51488</th>\n",
       "      <td>2.233903</td>\n",
       "      <td>-2.124402</td>\n",
       "      <td>2</td>\n",
       "    </tr>\n",
       "    <tr>\n",
       "      <th>51489</th>\n",
       "      <td>-2.431998</td>\n",
       "      <td>0.947400</td>\n",
       "      <td>1</td>\n",
       "    </tr>\n",
       "  </tbody>\n",
       "</table>\n",
       "<p>51490 rows × 3 columns</p>\n",
       "</div>"
      ],
      "text/plain": [
       "           pca1      pca2  winner\n",
       "0     -1.386346  1.688852       1\n",
       "1     -3.230678  0.693440       1\n",
       "2     -1.334851 -0.188156       1\n",
       "3     -2.829287  0.616305       1\n",
       "4     -2.086047  1.359019       1\n",
       "...         ...       ...     ...\n",
       "51485  2.370553 -1.327291       2\n",
       "51486  5.286525  4.510198       2\n",
       "51487  1.675559 -1.225819       2\n",
       "51488  2.233903 -2.124402       2\n",
       "51489 -2.431998  0.947400       1\n",
       "\n",
       "[51490 rows x 3 columns]"
      ]
     },
     "execution_count": 7,
     "metadata": {},
     "output_type": "execute_result"
    }
   ],
   "source": [
    "matches_df = pd.concat([pca_df, matches[['winner']]], axis = 1)\n",
    "matches_df"
   ]
  },
  {
   "cell_type": "code",
   "execution_count": 8,
   "id": "0a806db8",
   "metadata": {},
   "outputs": [
    {
     "data": {
      "image/png": "[encoded data removed]",
      "text/plain": [
       "<Figure size 576x576 with 1 Axes>"
      ]
     },
     "metadata": {
      "needs_background": "light"
     },
     "output_type": "display_data"
    }
   ],
   "source": [
    "import matplotlib.pyplot as plt\n",
    "\n",
    "fig = plt.figure(figsize = (8,8))\n",
    "ax = fig.add_subplot(1,1,1) \n",
    "ax.set_xlabel('Principal Component 1', fontsize = 15)\n",
    "ax.set_ylabel('Principal Component 2', fontsize = 15)\n",
    "\n",
    "ax.set_title('2 component PCA', fontsize = 20)\n",
    "targets = [1,2]\n",
    "colors = ['r', 'g', 'b']\n",
    "for target, color in zip(targets,colors):\n",
    "    indicesToKeep = matches_df['winner'] == target\n",
    "    ax.scatter(matches_df.loc[indicesToKeep, 'pca1'],\n",
    "               matches_df.loc[indicesToKeep, 'pca2'],\n",
    "               c = color,\n",
    "               s = 50)\n",
    "ax.legend(targets)\n",
    "ax.grid()"
   ]
  },
  {
   "cell_type": "code",
   "execution_count": 9,
   "id": "ca122d39",
   "metadata": {},
   "outputs": [
    {
     "data": {
      "text/plain": [
       "array([0.09486616, 0.05159784])"
      ]
     },
     "execution_count": 9,
     "metadata": {},
     "output_type": "execute_result"
    }
   ],
   "source": [
    "pca.explained_variance_ratio_"
   ]
  },
  {
   "cell_type": "markdown",
   "id": "3ecd1757",
   "metadata": {},
   "source": [
    "Running a PCA shows us that reducing the number of features may not be the best approach. The explained variance ration is a metric used to measure how much of the data k number of principal componenets can explain. In this case, the top 2 features with the \"best\" principal components only account for a tiny fraction of the data. This makes sense since there are, essentially, an infinite number of variables that can decide the outcome of a LoL match. With our limited data, it will be difficult to predict winners but we should move forward with keeping all features for our model."
   ]
  },
  {
   "cell_type": "markdown",
   "id": "c790285c",
   "metadata": {},
   "source": [
    "### Decision Tree for Predicting Winner"
   ]
  },
  {
   "cell_type": "markdown",
   "id": "bf04e7bb",
   "metadata": {},
   "source": [
    "A decision tree tries to make a prediction (based on features) by making decisions through splitting a node into two or more sub-nodes. In this case, the decision tree will use all available features (i.e. gameDuration, firstBlood, etc.) to make a prediction on the target, winner. The algorithm will begin with an original set as the root node. This will be the entire dataset of features. After each iteration, the algorithm goes through unused features of this set and calculates entropy and information gain of the feature, then splits the feature with the smallest entropy or largest information gain to produce a subset. The algorithm reiterates this process on each subset and goes through features that were not selected until a decision is made.\n",
    "\n",
    "\n",
    "Source: https://towardsdatascience.com/a-dive-into-decision-trees-a128923c9298"
   ]
  },
  {
   "cell_type": "code",
   "execution_count": 10,
   "id": "84f010d7",
   "metadata": {},
   "outputs": [],
   "source": [
    "#the code below takes a fitted tree model and plots a visual representation of the algorithm's decisions\n",
    "import graphviz\n",
    "import matplotlib.pyplot as plt\n",
    "import pydotplus\n",
    "import matplotlib.image as mpimg\n",
    "import io\n",
    "from sklearn.tree import export_graphviz\n",
    "\n",
    "def draw_tree(tree):\n",
    "    dot_data = export_graphviz(tree,\n",
    "                               out_file=None,\n",
    "                               feature_names=features, \n",
    "                               class_names=[\"Up\", \"Down\"],\n",
    "                               filled=True,\n",
    "                               rounded=True,\n",
    "                               special_characters=True,\n",
    "                               proportion = True)\n",
    "    \n",
    "    graph = graphviz.Source(dot_data)\n",
    "    graph.format = \"png\"\n",
    "    graph.render(\"tree\",view=True)\n",
    "    plt.figure(figsize=(50,30))\n",
    "    img = mpimg.imread(\"tree.png\")\n",
    "    imgplot = plt.imshow(img)\n",
    "\n",
    "    plt.show()"
   ]
  },
  {
   "cell_type": "code",
   "execution_count": 11,
   "id": "fffa4fd1",
   "metadata": {},
   "outputs": [],
   "source": [
    "from sklearn.model_selection import train_test_split\n",
    "\n",
    "#separating features\n",
    "X = matches.drop(columns=[\"winner\"])\n",
    "#separating target\n",
    "y = matches[[\"winner\"]]\n",
    "\n",
    "X_train, X_test, y_train, y_test = train_test_split(X, y, test_size=0.33, random_state=42)"
   ]
  },
  {
   "cell_type": "code",
   "execution_count": 12,
   "id": "cc9fa651",
   "metadata": {},
   "outputs": [],
   "source": [
    "from sklearn.tree import DecisionTreeClassifier\n",
    "from sklearn.model_selection import train_test_split\n",
    "from sklearn.model_selection import cross_val_score\n",
    "from sklearn import metrics"
   ]
  },
  {
   "cell_type": "markdown",
   "id": "f1007138",
   "metadata": {},
   "source": [
    "### Determining Best Depth using AUC\n",
    "One of the parameters of a decision tree is max_depth, which defines the number of levels the tree will iterate through to arrive at a decision. The ROC AUC measures the performance of the model. Higher the AUC, the better the model is at predicting winner 1 classes as winner 1 and winner 2 classes as winner 2. The table below shows that the highest mean roc auc is at depths=5, so we can move forward with training a decision tree with depths=5."
   ]
  },
  {
   "cell_type": "code",
   "execution_count": 13,
   "id": "b038746d",
   "metadata": {},
   "outputs": [
    {
     "data": {
      "text/html": [
       "<div>\n",
       "<style scoped>\n",
       "    .dataframe tbody tr th:only-of-type {\n",
       "        vertical-align: middle;\n",
       "    }\n",
       "\n",
       "    .dataframe tbody tr th {\n",
       "        vertical-align: top;\n",
       "    }\n",
       "\n",
       "    .dataframe thead th {\n",
       "        text-align: right;\n",
       "    }\n",
       "</style>\n",
       "<table border=\"1\" class=\"dataframe\">\n",
       "  <thead>\n",
       "    <tr style=\"text-align: right;\">\n",
       "      <th></th>\n",
       "      <th>depths</th>\n",
       "      <th>mean_roc_auc</th>\n",
       "    </tr>\n",
       "  </thead>\n",
       "  <tbody>\n",
       "    <tr>\n",
       "      <th>3</th>\n",
       "      <td>5</td>\n",
       "      <td>0.995267</td>\n",
       "    </tr>\n",
       "    <tr>\n",
       "      <th>4</th>\n",
       "      <td>6</td>\n",
       "      <td>0.995262</td>\n",
       "    </tr>\n",
       "    <tr>\n",
       "      <th>5</th>\n",
       "      <td>7</td>\n",
       "      <td>0.994017</td>\n",
       "    </tr>\n",
       "    <tr>\n",
       "      <th>2</th>\n",
       "      <td>4</td>\n",
       "      <td>0.993607</td>\n",
       "    </tr>\n",
       "    <tr>\n",
       "      <th>6</th>\n",
       "      <td>8</td>\n",
       "      <td>0.990400</td>\n",
       "    </tr>\n",
       "    <tr>\n",
       "      <th>1</th>\n",
       "      <td>3</td>\n",
       "      <td>0.988127</td>\n",
       "    </tr>\n",
       "    <tr>\n",
       "      <th>7</th>\n",
       "      <td>9</td>\n",
       "      <td>0.984513</td>\n",
       "    </tr>\n",
       "    <tr>\n",
       "      <th>0</th>\n",
       "      <td>2</td>\n",
       "      <td>0.973918</td>\n",
       "    </tr>\n",
       "  </tbody>\n",
       "</table>\n",
       "</div>"
      ],
      "text/plain": [
       "   depths  mean_roc_auc\n",
       "3       5      0.995267\n",
       "4       6      0.995262\n",
       "5       7      0.994017\n",
       "2       4      0.993607\n",
       "6       8      0.990400\n",
       "1       3      0.988127\n",
       "7       9      0.984513\n",
       "0       2      0.973918"
      ]
     },
     "execution_count": 13,
     "metadata": {},
     "output_type": "execute_result"
    }
   ],
   "source": [
    "depths = np.arange(2,10) # define the depths\n",
    "results = [] # create an empty data frame for our results\n",
    "\n",
    "for depth in depths:\n",
    "    best_depth_tree = DecisionTreeClassifier(max_depth = depth) # creating an instance of a decision tree\n",
    "    results.append(cross_val_score(best_depth_tree, X, y, scoring=\"roc_auc\", # getting the cv accuracy metric for the tree at each depth\n",
    "                cv=3).mean())\n",
    "    \n",
    "test = pd.DataFrame({'depths':depths, 'mean_roc_auc':results})\n",
    "test.sort_values(\"mean_roc_auc\", ascending=False)"
   ]
  },
  {
   "cell_type": "markdown",
   "id": "f46b095f",
   "metadata": {},
   "source": [
    "### Training and Testing a Decision Tree"
   ]
  },
  {
   "cell_type": "code",
   "execution_count": 24,
   "id": "9b7c57dc",
   "metadata": {},
   "outputs": [
    {
     "data": {
      "text/plain": [
       "DecisionTreeClassifier(max_depth=5)"
      ]
     },
     "execution_count": 24,
     "metadata": {},
     "output_type": "execute_result"
    }
   ],
   "source": [
    "matches_win_tree = DecisionTreeClassifier(max_depth=5)\n",
    "matches_win_tree.fit(X_train, y_train)"
   ]
  },
  {
   "cell_type": "markdown",
   "id": "d4a8dad4",
   "metadata": {},
   "source": [
    "### Confusion Matrix"
   ]
  },
  {
   "cell_type": "markdown",
   "id": "dc69fb42",
   "metadata": {},
   "source": [
    "The confusion matrix below gives us the following information about the performance of the model:\n",
    "   - 8359 matches were correctly classified as winner=1\n",
    "   - 343 matches were incorrectly classified as winner=1\n",
    "   - 8031 matches were correctly classified as winner=2\n",
    "   - 259 matches were incorrectly classified as winner=2\n",
    "   - In total, 16,992 matches were tested using the trained decision tree\n",
    "   - 16,390 matches were correctly classified\n",
    "   - 602 matches were incorrectly classified"
   ]
  },
  {
   "cell_type": "code",
   "execution_count": 25,
   "id": "d599c428",
   "metadata": {},
   "outputs": [
    {
     "name": "stdout",
     "output_type": "stream",
     "text": [
      "[[8359  259]\n",
      " [ 343 8031]]\n"
     ]
    }
   ],
   "source": [
    "simple_predictions = matches_win_tree.predict(X_test)\n",
    "print(metrics.confusion_matrix(y_test, simple_predictions))"
   ]
  },
  {
   "cell_type": "markdown",
   "id": "ba0a56f4",
   "metadata": {},
   "source": [
    "### Classification Report"
   ]
  },
  {
   "cell_type": "code",
   "execution_count": null,
   "id": "13ec4644",
   "metadata": {},
   "outputs": [],
   "source": []
  },
  {
   "cell_type": "code",
   "execution_count": 17,
   "id": "47447f94",
   "metadata": {},
   "outputs": [
    {
     "name": "stdout",
     "output_type": "stream",
     "text": [
      "              precision    recall  f1-score   support\n",
      "\n",
      "           1       0.96      0.97      0.97      8618\n",
      "           2       0.97      0.96      0.96      8374\n",
      "\n",
      "    accuracy                           0.96     16992\n",
      "   macro avg       0.96      0.96      0.96     16992\n",
      "weighted avg       0.96      0.96      0.96     16992\n",
      "\n"
     ]
    }
   ],
   "source": [
    "print(metrics.classification_report(y_test, simple_predictions))"
   ]
  },
  {
   "cell_type": "markdown",
   "id": "54be68ac",
   "metadata": {},
   "source": [
    "### Root Mean Squared Error"
   ]
  },
  {
   "cell_type": "code",
   "execution_count": 18,
   "id": "044a3c86",
   "metadata": {},
   "outputs": [
    {
     "name": "stdout",
     "output_type": "stream",
     "text": [
      "Mean Absolute Error: 0.03542843691148776\n",
      "Mean Squared Error: 0.03542843691148776\n",
      "Root Mean Squared Error: 0.18822443229158048\n"
     ]
    }
   ],
   "source": [
    "print('Mean Absolute Error:', metrics.mean_absolute_error(y_test, simple_predictions))\n",
    "print('Mean Squared Error:', metrics.mean_squared_error(y_test, simple_predictions))\n",
    "print('Root Mean Squared Error:', np.sqrt(metrics.mean_squared_error(y_test, simple_predictions)))"
   ]
  },
  {
   "cell_type": "markdown",
   "id": "ac38b0ab",
   "metadata": {},
   "source": [
    "### Feature Im"
   ]
  },
  {
   "cell_type": "code",
   "execution_count": 22,
   "id": "43d0fcec",
   "metadata": {},
   "outputs": [
    {
     "data": {
      "text/plain": [
       "{'t2_towerKills': 0.718938630922344,\n",
       " 't1_towerKills': 0.23479598504535143,\n",
       " 't2_inhibitorKills': 0.017947397524946517,\n",
       " 't1_inhibitorKills': 0.015206793765628219,\n",
       " 'firstInhibitor': 0.011039767113063372,\n",
       " 'firstBlood': 0.0011941069783556043,\n",
       " 't2_dragonKills': 0.0004406189628114218,\n",
       " 't1_champ3id': 0.00012609616408118678,\n",
       " 't1_champ2id': 0.00012574477182879102,\n",
       " 't2_champ2id': 0.00012493103902718686,\n",
       " 't1_champ4id': 5.9927712562167315e-05,\n",
       " 'gameDuration': 0.0,\n",
       " 'firstTower': 0.0,\n",
       " 'firstBaron': 0.0,\n",
       " 'firstDragon': 0.0,\n",
       " 'firstRiftHerald': 0.0,\n",
       " 't1_champ1id': 0.0,\n",
       " 't1_champ1_sum1': 0.0,\n",
       " 't1_champ1_sum2': 0.0,\n",
       " 't1_champ2_sum1': 0.0,\n",
       " 't1_champ2_sum2': 0.0,\n",
       " 't1_champ3_sum1': 0.0,\n",
       " 't1_champ3_sum2': 0.0,\n",
       " 't1_champ4_sum1': 0.0,\n",
       " 't1_champ4_sum2': 0.0,\n",
       " 't1_champ5id': 0.0,\n",
       " 't1_champ5_sum1': 0.0,\n",
       " 't1_champ5_sum2': 0.0,\n",
       " 't1_baronKills': 0.0,\n",
       " 't1_dragonKills': 0.0,\n",
       " 't1_riftHeraldKills': 0.0,\n",
       " 't1_ban1': 0.0,\n",
       " 't1_ban2': 0.0,\n",
       " 't1_ban3': 0.0,\n",
       " 't1_ban4': 0.0,\n",
       " 't1_ban5': 0.0,\n",
       " 't2_champ1id': 0.0,\n",
       " 't2_champ1_sum1': 0.0,\n",
       " 't2_champ1_sum2': 0.0,\n",
       " 't2_champ2_sum1': 0.0,\n",
       " 't2_champ2_sum2': 0.0,\n",
       " 't2_champ3id': 0.0,\n",
       " 't2_champ3_sum1': 0.0,\n",
       " 't2_champ3_sum2': 0.0,\n",
       " 't2_champ4id': 0.0,\n",
       " 't2_champ4_sum1': 0.0,\n",
       " 't2_champ4_sum2': 0.0,\n",
       " 't2_champ5id': 0.0,\n",
       " 't2_champ5_sum1': 0.0,\n",
       " 't2_champ5_sum2': 0.0,\n",
       " 't2_baronKills': 0.0,\n",
       " 't2_riftHeraldKills': 0.0,\n",
       " 't2_ban1': 0.0,\n",
       " 't2_ban2': 0.0,\n",
       " 't2_ban3': 0.0,\n",
       " 't2_ban4': 0.0,\n",
       " 't2_ban5': 0.0}"
      ]
     },
     "execution_count": 22,
     "metadata": {},
     "output_type": "execute_result"
    }
   ],
   "source": [
    "x = dict(zip(\n",
    "    features,\n",
    "    matches_win_tree.feature_importances_\n",
    "))\n",
    "\n",
    "{k: v for k, v in sorted(x.items(), key=lambda item: item[1], reverse= True)}"
   ]
  },
  {
   "cell_type": "code",
   "execution_count": null,
   "id": "33f0250c",
   "metadata": {},
   "outputs": [],
   "source": [
    "draw_tree(matches_win_tree)"
   ]
  }
 ],
 "metadata": {
  "kernelspec": {
   "display_name": "Python 3",
   "language": "python",
   "name": "python3"
  },
  "language_info": {
   "codemirror_mode": {
    "name": "ipython",
    "version": 3
   },
   "file_extension": ".py",
   "mimetype": "text/x-python",
   "name": "python",
   "nbconvert_exporter": "python",
   "pygments_lexer": "ipython3",
   "version": "3.8.8"
  }
 },
 "nbformat": 4,
 "nbformat_minor": 5
}
