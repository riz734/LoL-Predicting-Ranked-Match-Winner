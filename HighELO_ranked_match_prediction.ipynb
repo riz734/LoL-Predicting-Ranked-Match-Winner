{
 "cells": [
  {
   "cell_type": "markdown",
   "id": "c0b52931",
   "metadata": {},
   "source": [
    "### Predicting Winner in League of Legends Ranked Matches\n"
   ]
  },
  {
   "cell_type": "markdown",
   "id": "e944caeb",
   "metadata": {},
   "source": [
    "Datasets:\n",
    "\n",
    "Ranked Games: https://www.kaggle.com/datasnaek/league-of-legends\n",
    "\n",
    "High ELO Ranked Games: https://www.kaggle.com/gyejr95/league-of-legends-challenger-ranked-games2020"
   ]
  },
  {
   "cell_type": "markdown",
   "id": "ef08db0a",
   "metadata": {},
   "source": [
    "This project uses a dataset of ranked matches from League of Legends to predict the winner in ranked matches. LoL is a multiplayer online battle arena game where two teams of 5 compete against each other to destroy the other team's Nexus (a structure located in each team's base). Ranked matches are games where teams compete to climb the leaderboard and ranking tiers within the game (ranges from Iron to Challenger, 9 total tiers).\n",
    "\n",
    "This project will train a dataset of ranked matches and a dataset of only high elo ranked matches (Master, Grand Master, and Challenger)"
   ]
  },
  {
   "cell_type": "code",
   "execution_count": null,
   "id": "2e1b0e92",
   "metadata": {},
   "outputs": [],
   "source": []
  }
 ],
 "metadata": {
  "kernelspec": {
   "display_name": "Python 3",
   "language": "python",
   "name": "python3"
  },
  "language_info": {
   "codemirror_mode": {
    "name": "ipython",
    "version": 3
   },
   "file_extension": ".py",
   "mimetype": "text/x-python",
   "name": "python",
   "nbconvert_exporter": "python",
   "pygments_lexer": "ipython3",
   "version": "3.8.8"
  }
 },
 "nbformat": 4,
 "nbformat_minor": 5
}
